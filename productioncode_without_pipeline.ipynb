{
  "nbformat": 4,
  "nbformat_minor": 0,
  "metadata": {
    "colab": {
      "provenance": [],
      "mount_file_id": "1zngjjFPPbUYwQ3AkUScQ3vfl3MidM7-q",
      "authorship_tag": "ABX9TyOOIC4dRUF5xSLcO+BtsnFc",
      "include_colab_link": true
    },
    "kernelspec": {
      "name": "python3",
      "display_name": "Python 3"
    },
    "language_info": {
      "name": "python"
    }
  },
  "cells": [
    {
      "cell_type": "markdown",
      "metadata": {
        "id": "view-in-github",
        "colab_type": "text"
      },
      "source": [
        "<a href=\"https://colab.research.google.com/github/imharshmishra87/Feature-Scaling-Ml/blob/main/productioncode_without_pipeline.ipynb\" target=\"_parent\"><img src=\"https://colab.research.google.com/assets/colab-badge.svg\" alt=\"Open In Colab\"/></a>"
      ]
    },
    {
      "cell_type": "code",
      "execution_count": null,
      "metadata": {
        "id": "fcHHHXY3HnNs"
      },
      "outputs": [],
      "source": [
        "import numpy as np\n",
        "import pickle\n",
        "import pandas as pd"
      ]
    },
    {
      "cell_type": "markdown",
      "source": [
        "# Importing The Model"
      ],
      "metadata": {
        "id": "9pQclrDLA2dR"
      }
    },
    {
      "cell_type": "code",
      "source": [
        "oe_sex=pickle.load(open('Model/oe_sex.pkl','rb'))\n",
        "oe_embarked=pickle.load(open('Model/oe_embarked.pkl','rb'))\n",
        "Model=pickle.load(open('Model/clf.pkl','rb'))"
      ],
      "metadata": {
        "id": "0MxztJnPISw0"
      },
      "execution_count": null,
      "outputs": []
    },
    {
      "cell_type": "markdown",
      "source": [
        "# Working On Test Data Set"
      ],
      "metadata": {
        "id": "J0Z6Cvv8A6ZP"
      }
    },
    {
      "cell_type": "code",
      "source": [
        "test_input=np.array([2,'male',28,1,0,79.2855,'S'],dtype=object).reshape(1,7)"
      ],
      "metadata": {
        "id": "wD86VaFyJd61"
      },
      "execution_count": null,
      "outputs": []
    },
    {
      "cell_type": "code",
      "source": [
        "test_input[:,1]"
      ],
      "metadata": {
        "colab": {
          "base_uri": "https://localhost:8080/"
        },
        "id": "sP7AR8BONGDQ",
        "outputId": "0b82e211-706e-4071-cd5d-003d67124e69"
      },
      "execution_count": null,
      "outputs": [
        {
          "output_type": "execute_result",
          "data": {
            "text/plain": [
              "array(['male'], dtype=object)"
            ]
          },
          "metadata": {},
          "execution_count": 19
        }
      ]
    },
    {
      "cell_type": "code",
      "source": [
        "test_input_sex=oe_sex.transform(test_input[:,1].reshape(-1,1))"
      ],
      "metadata": {
        "colab": {
          "base_uri": "https://localhost:8080/"
        },
        "id": "UHm-DcftNeCr",
        "outputId": "ff3f7510-5d5f-4c0d-d1da-dfe2919fcfc1"
      },
      "execution_count": null,
      "outputs": [
        {
          "output_type": "stream",
          "name": "stderr",
          "text": [
            "/usr/local/lib/python3.12/dist-packages/sklearn/utils/validation.py:2739: UserWarning: X does not have valid feature names, but OneHotEncoder was fitted with feature names\n",
            "  warnings.warn(\n"
          ]
        }
      ]
    },
    {
      "cell_type": "code",
      "source": [
        "test_input[:,-1:]"
      ],
      "metadata": {
        "colab": {
          "base_uri": "https://localhost:8080/"
        },
        "id": "l-AFI5HYPudg",
        "outputId": "3984cbc2-3900-443d-cc6c-11b8585e2cc0"
      },
      "execution_count": null,
      "outputs": [
        {
          "output_type": "execute_result",
          "data": {
            "text/plain": [
              "array([['S']], dtype=object)"
            ]
          },
          "metadata": {},
          "execution_count": 27
        }
      ]
    },
    {
      "cell_type": "code",
      "source": [
        "test_input_embarked=oe_embarked.transform(test_input[:,-1:].reshape(-1,1))"
      ],
      "metadata": {
        "id": "ZN2aOoClPpqN"
      },
      "execution_count": null,
      "outputs": []
    },
    {
      "cell_type": "code",
      "source": [
        "test_input_age=test_input[:,2].reshape(-1,1)"
      ],
      "metadata": {
        "id": "xGUZ-EO9QOZA"
      },
      "execution_count": null,
      "outputs": []
    },
    {
      "cell_type": "code",
      "source": [
        "test_input"
      ],
      "metadata": {
        "colab": {
          "base_uri": "https://localhost:8080/"
        },
        "id": "0nWA3ypBRGiS",
        "outputId": "f38d954c-6f87-4557-f829-fab179d1143b"
      },
      "execution_count": null,
      "outputs": [
        {
          "output_type": "execute_result",
          "data": {
            "text/plain": [
              "array([[2, 'male', 28, 1, 0, 79.2855, 'S']], dtype=object)"
            ]
          },
          "metadata": {},
          "execution_count": 35
        }
      ]
    },
    {
      "cell_type": "code",
      "source": [
        "finalised_data=np.concatenate((test_input[:,[0,3,4,5]],test_input_sex,test_input_embarked,test_input_age),axis=1)"
      ],
      "metadata": {
        "id": "lWecM-_ZQHQS"
      },
      "execution_count": null,
      "outputs": []
    },
    {
      "cell_type": "code",
      "source": [
        "finalised_data.shape"
      ],
      "metadata": {
        "colab": {
          "base_uri": "https://localhost:8080/"
        },
        "id": "0BDucvB9RsIg",
        "outputId": "5b859d34-d961-4931-ceb7-849b8f58e216"
      },
      "execution_count": null,
      "outputs": [
        {
          "output_type": "execute_result",
          "data": {
            "text/plain": [
              "(1, 10)"
            ]
          },
          "metadata": {},
          "execution_count": 40
        }
      ]
    },
    {
      "cell_type": "markdown",
      "source": [
        "# Predicting Over Test Data Set"
      ],
      "metadata": {
        "id": "HYGFUpHKBCWW"
      }
    },
    {
      "cell_type": "code",
      "source": [
        "y_train_predict=Model.predict(finalised_data)\n",
        "y_train_predict"
      ],
      "metadata": {
        "colab": {
          "base_uri": "https://localhost:8080/"
        },
        "id": "av1A54CjR8wQ",
        "outputId": "5bf32ba4-9f28-478b-bf77-015b0c223985"
      },
      "execution_count": null,
      "outputs": [
        {
          "output_type": "execute_result",
          "data": {
            "text/plain": [
              "array([0])"
            ]
          },
          "metadata": {},
          "execution_count": 42
        }
      ]
    }
  ]
}